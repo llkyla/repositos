{
 "cells": [
  {
   "cell_type": "code",
   "execution_count": 1,
   "id": "a6474d60-47b2-4da2-bd45-08add540bda3",
   "metadata": {},
   "outputs": [],
   "source": [
    "import torch\n",
    "import torch.nn as nn\n",
    "import torch.optim as optim\n",
    "import numpy as np\n",
    "import matplotlib.pyplot as plt"
   ]
  },
  {
   "cell_type": "code",
   "execution_count": 4,
   "id": "f9d2508e-5b30-49fc-adb6-88ea04573e8f",
   "metadata": {},
   "outputs": [
    {
     "name": "stdout",
     "output_type": "stream",
     "text": [
      "Requirement already satisfied: torch in c:\\users\\user\\anaconda3\\lib\\site-packages (2.7.0)\n",
      "Requirement already satisfied: filelock in c:\\users\\user\\anaconda3\\lib\\site-packages (from torch) (3.13.1)\n",
      "Requirement already satisfied: typing-extensions>=4.10.0 in c:\\users\\user\\anaconda3\\lib\\site-packages (from torch) (4.11.0)\n",
      "Requirement already satisfied: sympy>=1.13.3 in c:\\users\\user\\anaconda3\\lib\\site-packages (from torch) (1.14.0)\n",
      "Requirement already satisfied: networkx in c:\\users\\user\\anaconda3\\lib\\site-packages (from torch) (3.3)\n",
      "Requirement already satisfied: jinja2 in c:\\users\\user\\anaconda3\\lib\\site-packages (from torch) (3.1.4)\n",
      "Requirement already satisfied: fsspec in c:\\users\\user\\anaconda3\\lib\\site-packages (from torch) (2024.6.1)\n",
      "Requirement already satisfied: setuptools in c:\\users\\user\\anaconda3\\lib\\site-packages (from torch) (75.1.0)\n",
      "Requirement already satisfied: mpmath<1.4,>=1.1.0 in c:\\users\\user\\anaconda3\\lib\\site-packages (from sympy>=1.13.3->torch) (1.3.0)\n",
      "Requirement already satisfied: MarkupSafe>=2.0 in c:\\users\\user\\anaconda3\\lib\\site-packages (from jinja2->torch) (2.1.3)\n"
     ]
    }
   ],
   "source": [
    "!pip3 install torch"
   ]
  },
  {
   "cell_type": "code",
   "execution_count": 2,
   "id": "cd0c48b5-2a4b-48db-b90f-6b5e80704ac7",
   "metadata": {},
   "outputs": [],
   "source": [
    "# Define the cubic polynomial function and generate the training data\n",
    "# Define the cubic polynomial function\n",
    "def cubic_function(x):\n",
    "    return x**3 - 3*x**2 + 2*x + 1\n",
    "\n",
    "# Generate training data\n",
    "x_train = np.linspace(-2, 3, 100)  # 100 points between -2 and 3\n",
    "y_train = cubic_function(x_train)\n",
    "\n",
    "# Convert the training data to PyTorch tensors\n",
    "x_train_tensor = torch.tensor(x_train, dtype=torch.float32).view(-1, 1)\n",
    "y_train_tensor = torch.tensor(y_train, dtype=torch.float32).view(-1, 1)"
   ]
  },
  {
   "cell_type": "code",
   "execution_count": 5,
   "id": "ba85de37-2c18-4c04-b8a5-fdbfa3c3fc5b",
   "metadata": {},
   "outputs": [],
   "source": [
    "# Define the ANN model\n",
    "class ANNModel(nn.Module):\n",
    "    def __init__(self):\n",
    "        super(ANNModel, self).__init__()\n",
    "        self.hidden1 = nn.Linear(1, 64)  # First hidden layer with 64 neurons\n",
    "        self.hidden2 = nn.Linear(64, 32)  # Second hidden layer with 32 neurons\n",
    "        self.output = nn.Linear(32, 1)  # Output layer\n",
    "\n",
    "    def forward(self, x):\n",
    "        x = torch.relu(self.hidden1(x))\n",
    "        x = torch.relu(self.hidden2(x))\n",
    "        x = self.output(x)\n",
    "        return x\n",
    "\n",
    "# Instantiate the model\n",
    "model = ANNModel()"
   ]
  },
  {
   "cell_type": "code",
   "execution_count": 7,
   "id": "2bca9204-c8c4-48a2-a91f-f42f76663c42",
   "metadata": {},
   "outputs": [],
   "source": [
    "# Define loss function and optimizer\n",
    "# Define loss function (Mean Squared Error) and optimizer (Adam)\n",
    "criterion = nn.MSELoss()\n",
    "optimizer = optim.Adam(model.parameters(), lr=0.01)"
   ]
  },
  {
   "cell_type": "code",
   "execution_count": 8,
   "id": "bbadf665-65ff-4a20-8853-517a149ea5bc",
   "metadata": {},
   "outputs": [
    {
     "name": "stdout",
     "output_type": "stream",
     "text": [
      "Epoch [100/1000], Loss: 0.3096\n",
      "Epoch [200/1000], Loss: 0.0140\n",
      "Epoch [300/1000], Loss: 0.0035\n",
      "Epoch [400/1000], Loss: 0.0015\n",
      "Epoch [500/1000], Loss: 0.0009\n",
      "Epoch [600/1000], Loss: 0.0006\n",
      "Epoch [700/1000], Loss: 0.0005\n",
      "Epoch [800/1000], Loss: 0.0004\n",
      "Epoch [900/1000], Loss: 0.0004\n",
      "Epoch [1000/1000], Loss: 0.0003\n"
     ]
    }
   ],
   "source": [
    "# Training the model\n",
    "# Number of epochs for training\n",
    "epochs = 1000\n",
    "\n",
    "# Training loop\n",
    "for epoch in range(epochs):\n",
    "    # Forward pass: Compute predicted y by passing x to the model\n",
    "    y_pred = model(x_train_tensor)\n",
    "\n",
    "    # Compute and print loss\n",
    "    loss = criterion(y_pred, y_train_tensor)\n",
    "\n",
    "    # Zero gradients, perform a backward pass, and update the weights\n",
    "    optimizer.zero_grad()\n",
    "    loss.backward()\n",
    "    optimizer.step()\n",
    "\n",
    "    # Print loss every 100 epochs\n",
    "    if (epoch+1) % 100 == 0:\n",
    "        print(f'Epoch [{epoch+1}/{epochs}], Loss: {loss.item():.4f}')"
   ]
  },
  {
   "cell_type": "code",
   "execution_count": null,
   "id": "edf1b464-6e26-4188-a5fb-0196efed00e1",
   "metadata": {},
   "outputs": [],
   "source": [
    "# Visualization\n",
    "# Generate predictions using the trained model\n",
    "y_pred_tensor = model(x_train_tensor).detach().numpy()\n",
    "\n",
    "# Plot the results\n",
    "plt.figure(figsize=(10, 6))\n",
    "plt.plot(x_train, y_train, label='Analytical Solution', color='blue')\n",
    "plt.plot(x_train, y_pred_tensor, label='ANN Prediction', color='red', linestyle='--')\n",
    "plt.title('Cubic Polynomial Function: Analytical vs ANN Prediction')\n",
    "plt.xlabel('x')\n",
    "plt.ylabel('y')\n",
    "plt.legend()\n",
    "plt.grid(True)\n",
    "plt.show()"
   ]
  },
  {
   "cell_type": "code",
   "execution_count": null,
   "id": "e1184437-c9f9-419b-ba23-3906d1e8a04f",
   "metadata": {},
   "outputs": [],
   "source": []
  }
 ],
 "metadata": {
  "kernelspec": {
   "display_name": "Python [conda env:base] *",
   "language": "python",
   "name": "conda-base-py"
  },
  "language_info": {
   "codemirror_mode": {
    "name": "ipython",
    "version": 3
   },
   "file_extension": ".py",
   "mimetype": "text/x-python",
   "name": "python",
   "nbconvert_exporter": "python",
   "pygments_lexer": "ipython3",
   "version": "3.12.7"
  }
 },
 "nbformat": 4,
 "nbformat_minor": 5
}
