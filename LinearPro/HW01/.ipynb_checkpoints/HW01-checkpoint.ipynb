{
 "cells": [
  {
   "cell_type": "code",
   "execution_count": 5,
   "id": "98a85366-8e7b-412f-96cd-dd688b67d61c",
   "metadata": {},
   "outputs": [],
   "source": [
    "%reset -f\n",
    "import numpy as np\n",
    "import gurobipy as gp\n",
    "from gurobipy import GRB\n",
    "\n",
    "class StopExecution(Exception):\n",
    "    def _render_traceback_(self):\n",
    "        pass"
   ]
  },
  {
   "cell_type": "code",
   "execution_count": 7,
   "id": "3cf9c7a2-71ed-4bad-9fb7-94c9e3e56f8f",
   "metadata": {},
   "outputs": [],
   "source": [
    "# Setting the matrix sizes and random data\n",
    "n1 = 7\n",
    "n2 = 15\n",
    "m1 = 2\n",
    "m2 = 4\n",
    "np.random.seed(56)\n",
    "A = np.random.rand(m1,n1)\n",
    "B = np.random.rand(m1,n2)\n",
    "D = np.random.rand(m2,n1)\n",
    "\n",
    "# Organzie the situation so that the primal problem has a feasible sol\n",
    "xs = np.random.rand(n1)\n",
    "ws = -np.random.rand(n2)\n",
    "b = np.matmul(A, xs) + np.matmul(B, ws) + 0.01 * np.random.rand(m1)\n",
    "g = np.matmul(D, xs)\n",
    "\n",
    "# Organzie the situation so that the dual problem has a feasible sol\n",
    "ys = -np.random.rand(m1)\n",
    "vs = np.random.rand(m2) - np.random.rand(m2)\n",
    "c = np.matmul(np.transpose(A), ys) + np.matmul(np.transpose(D), vs) + 0.01*np.random.rand(n1)\n",
    "f = np.matmul(np.transpose(B), ys) - 0.01*np.random.rand(n2)"
   ]
  },
  {
   "cell_type": "code",
   "execution_count": 9,
   "id": "15f13add-389a-4581-9567-744bfb1ca551",
   "metadata": {},
   "outputs": [
    {
     "name": "stdout",
     "output_type": "stream",
     "text": [
      "Restricted license - for non-production use only - expires 2025-11-24\n",
      "Discarded solution information\n"
     ]
    }
   ],
   "source": [
    "model = gp.Model()\n",
    "model.reset()\n",
    "\n",
    "x = model.addMVar(n1)\n",
    "w = model.addMVar(n2, ub = 0.0, lb = -GRB.INFINITY)\n",
    "objective = model.setObjective(c@x + f@w, GRB.MINIMIZE)\n",
    "constraints1 = model.addConstr(A@x + B@w <= b)\n",
    "constraints2 = model.addConstr(D@x == g)"
   ]
  },
  {
   "cell_type": "code",
   "execution_count": 11,
   "id": "3e129937-84af-4100-95f8-8f535e4f9367",
   "metadata": {},
   "outputs": [
    {
     "name": "stdout",
     "output_type": "stream",
     "text": [
      "Gurobi Optimizer version 11.0.3 build v11.0.3rc0 (mac64[x86] - Darwin 23.5.0 23F79)\n",
      "\n",
      "CPU model: Intel(R) Core(TM) i7-8850H CPU @ 2.60GHz\n",
      "Thread count: 6 physical cores, 12 logical processors, using up to 12 threads\n",
      "\n",
      "Optimize a model with 6 rows, 22 columns and 72 nonzeros\n",
      "Model fingerprint: 0x88986c3b\n",
      "Coefficient statistics:\n",
      "  Matrix range     [2e-03, 1e+00]\n",
      "  Objective range  [1e-01, 1e+00]\n",
      "  Bounds range     [0e+00, 0e+00]\n",
      "  RHS range        [7e-01, 3e+00]\n",
      "Presolve time: 0.01s\n",
      "Presolved: 6 rows, 22 columns, 72 nonzeros\n",
      "\n",
      "Iteration    Objective       Primal Inf.    Dual Inf.      Time\n",
      "       0   -7.2547823e+30   1.946982e+31   7.254782e+00      0s\n",
      "       9    2.6453973e+00   0.000000e+00   0.000000e+00      0s\n",
      "\n",
      "Solved in 9 iterations and 0.02 seconds (0.00 work units)\n",
      "Optimal objective  2.645397253e+00\n"
     ]
    }
   ],
   "source": [
    "model.optimize()\n",
    "if model.status != GRB.Status.OPTIMAL:\n",
    "    print(\"***** Gurobi solve status:\", modeel.status)\n",
    "    print(\"***** This is a problem. Model does not have an optimal solution\")\n",
    "    raise StopExcution"
   ]
  },
  {
   "cell_type": "code",
   "execution_count": 13,
   "id": "acc76215-45a2-4f06-9389-bdf472903165",
   "metadata": {},
   "outputs": [
    {
     "name": "stdout",
     "output_type": "stream",
     "text": [
      "***** Primal solution:\n",
      "x[ 0 ] 0.2689\n",
      "x[ 1 ] 0.0080\n",
      "x[ 2 ] 1.3952\n",
      "x[ 3 ] 0.    \n",
      "x[ 4 ] 0.4962\n",
      "x[ 5 ] 0.    \n",
      "x[ 6 ] 0.    \n",
      " \n",
      "w[ 0 ]= 0.    \n",
      "w[ 1 ]= 0.    \n",
      "w[ 2 ]= 0.    \n",
      "w[ 3 ]= 0.    \n",
      "w[ 4 ]= 0.    \n",
      "w[ 5 ]= 0.    \n",
      "w[ 6 ]= 0.    \n",
      "w[ 7 ]= 0.    \n",
      "w[ 8 ]= 0.    \n",
      "w[ 9 ]= 0.    \n",
      "w[ 10 ]= -4.7348\n",
      "w[ 11 ]= 0.    \n",
      "w[ 12 ]= -4.392 \n",
      "w[ 13 ]= 0.    \n",
      "w[ 14 ]= 0.    \n",
      " \n",
      "***** Dual solution:\n",
      "y[ 0 ] -0.4424\n",
      "y[ 1 ] -0.7261\n",
      " \n",
      "v[ 0 ]= -0.8196\n",
      "v[ 1 ]= -0.6668\n",
      "v[ 2 ]= -0.0458\n",
      "v[ 3 ]= 0.1904\n"
     ]
    }
   ],
   "source": [
    "print(\"***** Primal solution:\")\n",
    "for j in range(0,n1): print(\"x[\", j, \"]\",\n",
    "                            np.format_float_positional(x[j].X, 4, pad_right = 4))\n",
    "print(\" \")\n",
    "\n",
    "for j in range(0,n2): print(\"w[\" , j, \"]=\",\n",
    "                            np.format_float_positional(w[j].X, 4, pad_right = 4))\n",
    "print(\" \")\n",
    "print(\"***** Dual solution:\")\n",
    "\n",
    "for i in range(0,m1): print(\"y[\", i, \"]\",\n",
    "                            np.format_float_positional(constraints1[i].Pi, 4, pad_right = 4))\n",
    "print(\" \")\n",
    "for i in range(0,m2): print(\"v[\", i, \"]=\",\n",
    "                            np.format_float_positional(constraints2[i].Pi, 4, pad_right = 4))"
   ]
  },
  {
   "cell_type": "code",
   "execution_count": 17,
   "id": "30c1eae2-4859-430c-8822-19875d53d788",
   "metadata": {},
   "outputs": [
    {
     "name": "stdout",
     "output_type": "stream",
     "text": [
      "Discarded solution information\n",
      "Gurobi Optimizer version 11.0.3 build v11.0.3rc0 (mac64[x86] - Darwin 23.5.0 23F79)\n",
      "\n",
      "CPU model: Intel(R) Core(TM) i7-8850H CPU @ 2.60GHz\n",
      "Thread count: 6 physical cores, 12 logical processors, using up to 12 threads\n",
      "\n",
      "Optimize a model with 22 rows, 6 columns and 72 nonzeros\n",
      "Model fingerprint: 0x4324247b\n",
      "Coefficient statistics:\n",
      "  Matrix range     [2e-03, 1e+00]\n",
      "  Objective range  [7e-01, 3e+00]\n",
      "  Bounds range     [0e+00, 0e+00]\n",
      "  RHS range        [1e-01, 1e+00]\n",
      "Presolve time: 0.01s\n",
      "\n",
      "Solved in 0 iterations and 0.01 seconds (0.00 work units)\n",
      "Infeasible or unbounded model\n",
      "***** Gurobi solve status: 4\n",
      "***** This is a problem. Dual model does not have an optimal solution\n"
     ]
    }
   ],
   "source": [
    "# Dual Problem (D')\n",
    "# Maximize y'b + v'g\n",
    "dual_model = gp.Model()\n",
    "dual_model.reset()\n",
    "\n",
    "# Dual variables y and v\n",
    "y = dual_model.addMVar(m1, lb=0.0)  # Dual variable corresponding to the inequalities\n",
    "v = dual_model.addMVar(m2)          # Dual variable corresponding to the equalities\n",
    "\n",
    "# Set the objective: maximize y'b + v'g\n",
    "dual_objective = dual_model.setObjective(y @ b + v @ g, GRB.MAXIMIZE)\n",
    "\n",
    "# Add dual constraints: A'y + D'v >= c and B'y >= f\n",
    "dual_constraints1 = dual_model.addConstr(A.T @ y + D.T @ v >= c)\n",
    "dual_constraints2 = dual_model.addConstr(B.T @ y >= f)\n",
    "\n",
    "# Optimize the dual problem\n",
    "dual_model.optimize()\n",
    "\n",
    "# Optimal solution exsisting?\n",
    "if dual_model.status != GRB.Status.OPTIMAL:\n",
    "    print(\"***** Gurobi solve status:\", dual_model.status)\n",
    "    print(\"***** This is a problem. Dual model does not have an optimal solution\")\n",
    "    raise StopExecution\n",
    "\n",
    "# Print the dual solution\n",
    "print(\"***** Dual variables (optimal):\")\n",
    "for i in range(0, m1):\n",
    "    print(f\"y[{i}] = {y[i].X:.4f}\")\n",
    "print(\" \")\n",
    "for i in range(0, m2):\n",
    "    print(f\"v[{i}] = {v[i].X:.4f}\")\n",
    "print(\" \")\n",
    "\n",
    "# Check if the primal and dual objective values match\n",
    "primal_obj = model.ObjVal\n",
    "dual_obj = dual_model.ObjVal\n",
    "\n",
    "print(f\"***** Primal objective value: {primal_obj:.4f}\")\n",
    "print(f\"***** Dual objective value: {dual_obj:.4f}\")\n",
    "\n",
    "if abs(primal_obj - dual_obj) < 1e-6:\n",
    "    print(\"***** Primal and dual optimal values match!\")\n",
    "else:\n",
    "    print(\"***** There is a mismatch between primal and dual values.\")"
   ]
  },
  {
   "cell_type": "code",
   "execution_count": null,
   "id": "bcd2836d-be1b-4dd8-8ef2-f558d451d105",
   "metadata": {},
   "outputs": [],
   "source": []
  }
 ],
 "metadata": {
  "kernelspec": {
   "display_name": "Python 3 (ipykernel)",
   "language": "python",
   "name": "python3"
  },
  "language_info": {
   "codemirror_mode": {
    "name": "ipython",
    "version": 3
   },
   "file_extension": ".py",
   "mimetype": "text/x-python",
   "name": "python",
   "nbconvert_exporter": "python",
   "pygments_lexer": "ipython3",
   "version": "3.12.4"
  }
 },
 "nbformat": 4,
 "nbformat_minor": 5
}
