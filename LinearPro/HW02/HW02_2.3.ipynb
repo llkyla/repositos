{
 "cells": [
  {
   "cell_type": "code",
   "execution_count": 1,
   "id": "ce79d8f9-8b3a-498f-bf0b-117f05dccee0",
   "metadata": {},
   "outputs": [],
   "source": [
    "### Exercise 2.3 ###"
   ]
  },
  {
   "cell_type": "code",
   "execution_count": 30,
   "id": "6d984744-100d-4c4f-b1eb-0db8ed69217e",
   "metadata": {},
   "outputs": [],
   "source": [
    "%reset -f\n",
    "import itertools\n",
    "import numpy as np\n",
    "%matplotlib notebook\n",
    "#%matplotlib inline\n",
    "import matplotlib.pyplot as plt\n",
    "import gurobipy as gp\n",
    "from gurobipy import GRB\n",
    "import networkx as nx\n",
    "\n",
    "class StopExecution(Exception):\n",
    "    def _render_traceback_(self):\n",
    "        pass"
   ]
  },
  {
   "cell_type": "code",
   "execution_count": 32,
   "id": "3a16fe34-373b-469d-b41c-62b42ff36ea7",
   "metadata": {},
   "outputs": [],
   "source": [
    "# parameters\n",
    "solveLPOnly = True # set False to solve as an IP"
   ]
  },
  {
   "cell_type": "code",
   "execution_count": 34,
   "id": "f98fe534-5d73-496c-b366-9b63aa208147",
   "metadata": {},
   "outputs": [],
   "source": [
    "# Supply for each blood type\n",
    "Supplies = {\n",
    "    # Blood type i: supply\n",
    "    1: 20,  # O\n",
    "    2: 40,  # A\n",
    "    3: 30,  # B\n",
    "    4: 10   # AB\n",
    "}\n",
    "\n",
    "# Demand for each blood type\n",
    "Demands = {\n",
    "    # Blood type i: demand\n",
    "    1: 5,   # O\n",
    "    2: 30,  # A\n",
    "    3: 20,  # B\n",
    "    4: 45   # AB\n",
    "}\n",
    "\n",
    "# Compatibility matrix (arcs) - who can donate to whom\n",
    "Compatibility = {\n",
    "    # (donor, recipient): 1 if compatible, 0 if not\n",
    "    (1, 1): 1,  # O -> O\n",
    "    (1, 2): 1,  # O -> A\n",
    "    (1, 3): 1,  # O -> B\n",
    "    (1, 4): 1,  # O -> AB\n",
    "    (2, 2): 1,  # A -> A\n",
    "    (2, 4): 1,  # A -> AB\n",
    "    (3, 3): 1,  # B -> B\n",
    "    (3, 4): 1,  # B -> AB\n",
    "    (4, 4): 1   # AB -> AB\n",
    "}\n",
    "\n",
    "# Versatility weights (how valuable it is to leave blood in reserve)\n",
    "Weights = {\n",
    "    1: 4,  # O is most versatile\n",
    "    2: 2,  # A is moderately versatile\n",
    "    3: 2,  # B is moderately versatile\n",
    "    4: 1   # AB is least versatile\n",
    "}\n"
   ]
  },
  {
   "cell_type": "code",
   "execution_count": 36,
   "id": "755a2f2e-e50d-4392-bab6-b0390b849162",
   "metadata": {},
   "outputs": [],
   "source": [
    "# Set up the optimization model\n",
    "model = gp.Model('BloodDistribution')\n",
    "\n",
    "# Decision variables: how much blood to transfer from donor i to recipient j\n",
    "x = model.addVars(Compatibility.keys(), name=\"flow\", lb=0)"
   ]
  },
  {
   "cell_type": "code",
   "execution_count": 38,
   "id": "ce6caa01-9024-49dd-934a-b80ab874aecc",
   "metadata": {},
   "outputs": [
    {
     "data": {
      "text/plain": [
       "{1: <gurobi.Constr *Awaiting Model Update*>,\n",
       " 2: <gurobi.Constr *Awaiting Model Update*>,\n",
       " 3: <gurobi.Constr *Awaiting Model Update*>,\n",
       " 4: <gurobi.Constr *Awaiting Model Update*>}"
      ]
     },
     "execution_count": 38,
     "metadata": {},
     "output_type": "execute_result"
    }
   ],
   "source": [
    "# Objective function: maximize leftover blood with weight preferences\n",
    "model.setObjective(\n",
    "    gp.quicksum(Weights[i] * (Supplies[i] - gp.quicksum(Compatibility[i, j] * x[i, j] for j in Demands.keys() if (i, j) in Compatibility)) for i in Supplies.keys()), \n",
    "    GRB.MAXIMIZE\n",
    ")\n",
    "\n",
    "# Constraints: blood distributed from a type can't exceed its supply\n",
    "model.addConstrs(\n",
    "    (gp.quicksum(Compatibility[i, j] * x[i, j] for j in Demands.keys() if (i, j) in Compatibility) <= Supplies[i] for i in Supplies.keys()), \n",
    "    name=\"supply_constraint\"\n",
    ")\n",
    "\n",
    "# Constraints: each demand must be met exactly\n",
    "model.addConstrs(\n",
    "    (gp.quicksum(Compatibility[i, j] * x[i, j] for i in Supplies.keys() if (i, j) in Compatibility) == Demands[j] for j in Demands.keys()), \n",
    "    name=\"demand_constraint\"\n",
    ")\n"
   ]
  },
  {
   "cell_type": "code",
   "execution_count": 40,
   "id": "d4b09d8f-68b9-47d6-b4dc-080007b1785c",
   "metadata": {},
   "outputs": [
    {
     "name": "stdout",
     "output_type": "stream",
     "text": [
      "Gurobi Optimizer version 11.0.3 build v11.0.3rc0 (mac64[x86] - Darwin 23.5.0 23F79)\n",
      "\n",
      "CPU model: Intel(R) Core(TM) i7-8850H CPU @ 2.60GHz\n",
      "Thread count: 6 physical cores, 12 logical processors, using up to 12 threads\n",
      "\n",
      "Optimize a model with 8 rows, 9 columns and 18 nonzeros\n",
      "Model fingerprint: 0xba8c6df1\n",
      "Coefficient statistics:\n",
      "  Matrix range     [1e+00, 1e+00]\n",
      "  Objective range  [1e+00, 4e+00]\n",
      "  Bounds range     [0e+00, 0e+00]\n",
      "  RHS range        [5e+00, 4e+01]\n",
      "Presolve removed 4 rows and 3 columns\n",
      "Presolve time: 0.01s\n",
      "Presolved: 4 rows, 6 columns, 11 nonzeros\n",
      "\n",
      "Iteration    Objective       Primal Inf.    Dual Inf.      Time\n",
      "       0    6.5000000e+01   1.750000e+01   0.000000e+00      0s\n",
      "       3   -0.0000000e+00   0.000000e+00   0.000000e+00      0s\n",
      "\n",
      "Solved in 3 iterations and 0.01 seconds (0.00 work units)\n",
      "Optimal objective -0.000000000e+00\n",
      " \n",
      "***** Flows: \n",
      "x[(1, 1), *] = 5.0 capacity: N/A\n",
      "x[(1, 2), *] = 15.0 capacity: N/A\n",
      "x[(1, 3), *] = 0.0 capacity: N/A\n",
      "x[(1, 4), *] = 0.0 capacity: N/A\n",
      "x[(2, 2), *] = 15.0 capacity: N/A\n",
      "x[(2, 4), *] = 25.0 capacity: N/A\n",
      "x[(3, 3), *] = 20.0 capacity: N/A\n",
      "x[(3, 4), *] = 10.0 capacity: N/A\n",
      "x[(4, 4), *] = 10.0 capacity: N/A\n",
      "\n",
      "Remaining blood by type:\n",
      "Blood type 1: 0.00 units\n",
      "Blood type 2: 0.00 units\n",
      "Blood type 3: 0.00 units\n",
      "Blood type 4: 0.00 units\n"
     ]
    }
   ],
   "source": [
    "# Optimize the model\n",
    "model.optimize()\n",
    "\n",
    "# Check for optimal solution\n",
    "if model.status != GRB.Status.OPTIMAL:\n",
    "    print(\"***** Gurobi solve status:\", model.status)\n",
    "    print(\"***** This is a problem. Model does not have an optimal solution.\")\n",
    "    raise StopExecution\n",
    "\n",
    "# Printing results in the requested format\n",
    "print(\" \")\n",
    "print(\"***** Flows: \")\n",
    "\n",
    "for (i, j) in Compatibility.keys():\n",
    "    if Compatibility[i, j] == 1:  # Only print flows on valid arcs\n",
    "        arcflow = str(round(x[i, j].X, 4))\n",
    "        print(f\"x[({i}, {j}), *] = {arcflow} capacity: N/A\")  # Assuming no explicit capacity constraint in this model\n",
    "\n",
    "# Show the total leftover blood by type\n",
    "print(\"\\nRemaining blood by type:\")\n",
    "for i in Supplies.keys():\n",
    "    used_blood = sum(Compatibility[i, j] * x[i, j].X for j in Demands.keys() if (i, j) in Compatibility)\n",
    "    leftover_blood = Supplies[i] - used_blood\n",
    "    print(f\"Blood type {i}: {leftover_blood:.2f} units\")"
   ]
  },
  {
   "cell_type": "code",
   "execution_count": null,
   "id": "5e9218df-c9e7-456c-bcf2-41d937c250db",
   "metadata": {},
   "outputs": [],
   "source": []
  },
  {
   "cell_type": "code",
   "execution_count": null,
   "id": "fd570f2d-b65a-44f6-a42d-c344437a41ee",
   "metadata": {},
   "outputs": [],
   "source": []
  }
 ],
 "metadata": {
  "kernelspec": {
   "display_name": "Python 3 (ipykernel)",
   "language": "python",
   "name": "python3"
  },
  "language_info": {
   "codemirror_mode": {
    "name": "ipython",
    "version": 3
   },
   "file_extension": ".py",
   "mimetype": "text/x-python",
   "name": "python",
   "nbconvert_exporter": "python",
   "pygments_lexer": "ipython3",
   "version": "3.12.2"
  }
 },
 "nbformat": 4,
 "nbformat_minor": 5
}
