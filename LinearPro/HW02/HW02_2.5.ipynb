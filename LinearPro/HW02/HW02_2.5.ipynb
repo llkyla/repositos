{
 "cells": [
  {
   "cell_type": "code",
   "execution_count": 1,
   "id": "a89cf406-ac7d-495e-8b0a-611dd2769f83",
   "metadata": {},
   "outputs": [],
   "source": [
    "from gurobipy import Model, GRB, quicksum"
   ]
  },
  {
   "cell_type": "code",
   "execution_count": 3,
   "id": "11126e42-3e7d-484f-8572-e884c8bc2fe3",
   "metadata": {},
   "outputs": [
    {
     "name": "stdout",
     "output_type": "stream",
     "text": [
      "Restricted license - for non-production use only - expires 2025-11-24\n",
      "Gurobi Optimizer version 11.0.3 build v11.0.3rc0 (mac64[x86] - Darwin 23.5.0 23F79)\n",
      "\n",
      "CPU model: Intel(R) Core(TM) i7-8850H CPU @ 2.60GHz\n",
      "Thread count: 6 physical cores, 12 logical processors, using up to 12 threads\n",
      "\n",
      "Optimize a model with 9 rows, 7 columns and 17 nonzeros\n",
      "Model fingerprint: 0x4e46e29f\n",
      "Coefficient statistics:\n",
      "  Matrix range     [1e+00, 1e+00]\n",
      "  Objective range  [1e+00, 1e+00]\n",
      "  Bounds range     [0e+00, 0e+00]\n",
      "  RHS range        [1e+00, 6e+00]\n",
      "Presolve removed 9 rows and 7 columns\n",
      "Presolve time: 0.01s\n",
      "Presolve: All rows and columns removed\n",
      "Iteration    Objective       Primal Inf.    Dual Inf.      Time\n",
      "       0    1.1000000e+01   0.000000e+00   0.000000e+00      0s\n",
      "\n",
      "Solved in 0 iterations and 0.01 seconds (0.00 work units)\n",
      "Optimal objective  1.100000000e+01\n",
      " \n",
      "***** Optimal finish time:\n",
      "t[6] = 11.00\n",
      " \n",
      "***** Start times:\n",
      "t(0) = 0.00\n",
      "t(1) = 0.00\n",
      "t(2) = 2.00\n",
      "t(3) = 3.00\n",
      "t(4) = 2.00\n",
      "t(5) = 9.00\n",
      "t(6) = 11.00\n"
     ]
    }
   ],
   "source": [
    "# Define data\n",
    "n = 5\n",
    "arcs = [(0, 1, 0), (1, 2, 2), (1, 4, 2), (2, 3, 1), (3, 5, 6), (4, 5, 4), (4, 6, 4), (5, 6, 2)]\n",
    "\n",
    "# Create a model\n",
    "model = Model(\"Task Scheduling\")\n",
    "\n",
    "# Define variables: start times of tasks\n",
    "t = {i: model.addVar(vtype=GRB.CONTINUOUS, name=f\"t_{i}\") for i in range(n+2)}\n",
    "\n",
    "# Set objective: minimize start time of end task\n",
    "model.setObjective(t[n+1], GRB.MINIMIZE)\n",
    "\n",
    "# Add constraints\n",
    "for (i, j, d) in arcs:\n",
    "    model.addConstr(t[i] + d <= t[j])\n",
    "\n",
    "# Start time of start task\n",
    "model.addConstr(t[0] == 0)\n",
    "\n",
    "# Optimize model\n",
    "model.optimize()\n",
    "\n",
    "# Check solve status and output results\n",
    "if model.status != GRB.Status.OPTIMAL:\n",
    "    print(\"***** Gurobi solve status:\", model.status)\n",
    "    print(\"***** This is a problem. Model does not have an optimal solution\")\n",
    "else:\n",
    "    print(\" \")\n",
    "    print(\"***** Optimal finish time:\")\n",
    "    print(f\"t[{n+1}] = {model.objVal:.2f}\")\n",
    "    print(\" \")\n",
    "    print(\"***** Start times:\")\n",
    "    for i in range(n+2):\n",
    "        print(f\"t({i}) = {t[i].x:.2f}\")"
   ]
  },
  {
   "cell_type": "code",
   "execution_count": null,
   "id": "95a5d0d8-5575-4eb6-abfa-e63f28b08dde",
   "metadata": {},
   "outputs": [],
   "source": []
  }
 ],
 "metadata": {
  "kernelspec": {
   "display_name": "Python 3 (ipykernel)",
   "language": "python",
   "name": "python3"
  },
  "language_info": {
   "codemirror_mode": {
    "name": "ipython",
    "version": 3
   },
   "file_extension": ".py",
   "mimetype": "text/x-python",
   "name": "python",
   "nbconvert_exporter": "python",
   "pygments_lexer": "ipython3",
   "version": "3.12.2"
  }
 },
 "nbformat": 4,
 "nbformat_minor": 5
}
