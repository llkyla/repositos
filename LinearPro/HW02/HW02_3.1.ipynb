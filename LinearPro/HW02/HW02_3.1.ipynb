{
 "cells": [
  {
   "cell_type": "code",
   "execution_count": 121,
   "id": "fb96f5e8-9f12-422c-a814-0b8593196c9f",
   "metadata": {},
   "outputs": [],
   "source": [
    "%reset -f"
   ]
  },
  {
   "cell_type": "code",
   "execution_count": 122,
   "id": "fe1dfc75-88b6-460e-b1f4-8abbd79e9abd",
   "metadata": {},
   "outputs": [],
   "source": [
    "import numpy as np\n",
    "import sympy as sym\n",
    "sym.init_printing(use_latex='mathjax')\n",
    "import copy\n",
    "import operator\n",
    "eps = sym.symbols('epsilon')\n",
    "lam = sym.symbols('lambda')\n",
    "xlz = sym.Symbol('\\\\bar{x} + \\\\lambda \\\\bar{z} :')\n",
    "from IPython.display import Latex, Math\n",
    "%matplotlib inline\n",
    "import matplotlib.pyplot as plt\n",
    "from matplotlib.patches import Polygon\n",
    "from matplotlib.ticker import AutoMinorLocator, MultipleLocator\n",
    "from scipy.spatial import ConvexHull, convex_hull_plot_2d\n",
    "import itertools\n",
    "import seaborn as sns; sns.set(); sns.set_style(\"whitegrid\"); color_list = sns.color_palette(\"muted\")"
   ]
  },
  {
   "cell_type": "raw",
   "id": "4627abfa-a9ec-4d43-bf77-e8af9f1d25a1",
   "metadata": {},
   "source": [
    "%run ./pivog_tools.ipynb"
   ]
  },
  {
   "cell_type": "code",
   "execution_count": 125,
   "id": "c30e7e22-63d0-4ca5-849a-b78306d003f6",
   "metadata": {},
   "outputs": [],
   "source": [
    "# Initialize printing with LaTeX for better display in notebooks\n",
    "sym.init_printing(use_latex='mathjax')"
   ]
  },
  {
   "cell_type": "code",
   "execution_count": 127,
   "id": "af3f76a0-823a-4f69-a86e-71b92b6321ab",
   "metadata": {},
   "outputs": [],
   "source": [
    "# Matrix A\n",
    "A = sym.Matrix([\n",
    "    [1, 3, 0, 1, 0, 0],\n",
    "    [2, 1, 1, 0, 0, 0],\n",
    "    [1, 2, 0, 0, 1, 0],\n",
    "    [0, 1, 0, 0, 0, 1]\n",
    "])\n",
    "\n",
    "# Number of equations (m) and variables (n)\n",
    "m = A.shape[0]\n",
    "n = A.shape[1]\n",
    "\n",
    "# New cost vector c and right-hand side vector b\n",
    "c = sym.Matrix([4, 3, -1, 0, 2, sym.Rational(5, 2)])\n",
    "b = sym.Matrix([5, 8, 7, sym.Rational(22, 5)])\n",
    "\n",
    "# New cost vector c and right-hand side vector b\n",
    "c = sym.Matrix([4, 3, -1, 0, 2, sym.Rational(5, 2)])\n",
    "b = sym.Matrix([5, 8, 7, sym.Rational(22, 5)])\n",
    "\n",
    "# Basic (beta) and non-basic (eta) indices\n",
    "beta = [0, 1, 3, 5]  # Basic variables\n",
    "eta = list(set(list(range(n))) - set(beta))  # Non-basic variables\n",
    "\n",
    "# Partition A into A_beta and A_eta\n",
    "A_beta = copy.copy(A[:, beta])\n",
    "A_eta = copy.copy(A[:, eta])\n",
    "\n",
    "# Partition c into c_beta and c_eta\n",
    "c_beta = copy.copy(c[beta, 0])\n",
    "c_eta = copy.copy(c[eta, 0])\n",
    "\n",
    "Perturb = False "
   ]
  },
  {
   "cell_type": "code",
   "execution_count": 129,
   "id": "1f0854db-8dd0-406d-b54e-c6f32daed5e9",
   "metadata": {},
   "outputs": [
    {
     "data": {
      "text/latex": [
       "$\\displaystyle \\left[\\begin{matrix}1 & 3 & 0 & 1 & 0 & 0\\\\2 & 1 & 1 & 0 & 0 & 0\\\\1 & 2 & 0 & 0 & 1 & 0\\\\0 & 1 & 0 & 0 & 0 & 1\\end{matrix}\\right]$"
      ],
      "text/plain": [
       "⎡1  3  0  1  0  0⎤\n",
       "⎢                ⎥\n",
       "⎢2  1  1  0  0  0⎥\n",
       "⎢                ⎥\n",
       "⎢1  2  0  0  1  0⎥\n",
       "⎢                ⎥\n",
       "⎣0  1  0  0  0  1⎦"
      ]
     },
     "execution_count": 129,
     "metadata": {},
     "output_type": "execute_result"
    }
   ],
   "source": [
    "A"
   ]
  },
  {
   "cell_type": "code",
   "execution_count": 131,
   "id": "3558f334-f636-4faa-bb7a-f9fdb4f7e18b",
   "metadata": {},
   "outputs": [
    {
     "data": {
      "text/latex": [
       "$\\displaystyle \\left[\\begin{matrix}4\\\\3\\\\-1\\\\0\\\\2\\\\\\frac{5}{2}\\end{matrix}\\right]$"
      ],
      "text/plain": [
       "⎡ 4 ⎤\n",
       "⎢   ⎥\n",
       "⎢ 3 ⎥\n",
       "⎢   ⎥\n",
       "⎢-1 ⎥\n",
       "⎢   ⎥\n",
       "⎢ 0 ⎥\n",
       "⎢   ⎥\n",
       "⎢ 2 ⎥\n",
       "⎢   ⎥\n",
       "⎣5/2⎦"
      ]
     },
     "execution_count": 131,
     "metadata": {},
     "output_type": "execute_result"
    }
   ],
   "source": [
    "c"
   ]
  },
  {
   "cell_type": "code",
   "execution_count": 133,
   "id": "c24025d7-185d-4903-8315-06997aad5da1",
   "metadata": {},
   "outputs": [],
   "source": [
    "# Perturb\n",
    "def pivot_perturb():\n",
    "    global m, b, Perturb, eps\n",
    "    Perturb = True\n",
    "    for i in range(m):\n",
    "        for j in range(m):\n",
    "            b[i] += A_beta[i, j]*eps**(j+1)\n",
    "    print('pivot_perturb() dobe')\n",
    "\n",
    "# Algebra: perform algebra pivoting and get basic sol\n",
    "def pivot_algebra():\n",
    "    global m, n, objval, xbar, xbar_beta, xbar_eta, ybar, cbar_eta, ratios\n",
    "    xbar_beta = A_beta.solve(b)  # Basic solution for beta variables\n",
    "    xbar_eta = sym.zeros(n - m, 1)  # Non-basic variables are zero\n",
    "    objval = c_beta.dot(xbar_beta)  # Objective value\n",
    "    xbar = sym.zeros(n, 1)\n",
    "    for i in range(m):\n",
    "        xbar[beta[i]] = xbar_beta[i]\n",
    "    for j in range(n - m):\n",
    "        xbar[eta[j]] = xbar_eta[j]\n",
    "    ybar = A_beta.transpose().solve(c[beta, 0])  # Dual solution\n",
    "    cbar_eta = c_eta - A_eta.transpose() * ybar  # Reduced cost for eta variables\n",
    "    ratios = sym.oo * sym.ones(m, 1)\n",
    "    print('pivot_algebra() done')\n",
    "\n",
    "# Numerical version of a d-by-1 array\n",
    "def N(parray):\n",
    "    for i in range(parray.shape[0]): display(sym.N(parray[i]))\n",
    "\n",
    "# Pivot_ratio : compute direction and ratios for a non-basic index\n",
    "def pivot_ratios(j):\n",
    "    global ratios, zbar\n",
    "    if j > n - m - 1:\n",
    "        display(Latex(\"error: $j$ is out of range.\"))\n",
    "    else:\n",
    "        A_etaj = copy.copy(A[:, eta[j]])\n",
    "        Abar_etaj = A_beta.solve(A_etaj)\n",
    "        for i in range(m):\n",
    "            if Abar_etaj[i] > 0:\n",
    "                ratios[i] = xbar_beta[i] / Abar_etaj[i]\n",
    "            else:\n",
    "                ratios[i] = sym.oo\n",
    "        display(ratios)\n",
    "        zbar = sym.zeros(n, 1)\n",
    "        for i in range(m):\n",
    "            zbar[beta[i]] = -Abar_etaj[i]\n",
    "        zbar[eta[j]] = 1\n",
    "        display(Math(f'x_bar + \\\\lambda * z_bar = {xbar + sym.symbols(\"lambda\") * zbar}'))\n",
    "\n",
    "# Pivot_Swap: swap beta and eta vars\n",
    "def pivot_swap(j, i):\n",
    "    global A_beta, A_eta, c_beta, c_eta\n",
    "    if i > m - 1 or j > n - m - 1:\n",
    "        display(Latex(\"error: $j$ or $i$ is out of range. swap not accepted\"))\n",
    "    else:\n",
    "        save = copy.copy(beta[i])\n",
    "        beta[i] = copy.copy(eta[j])\n",
    "        eta[j] = save\n",
    "        A_beta = copy.copy(A[:, beta])\n",
    "        A_eta = copy.copy(A[:, eta])\n",
    "        c_beta = copy.copy(c[beta, 0])\n",
    "        c_eta = copy.copy(c[eta, 0])\n",
    "        display(Latex(\"swap accepted --- new partition:\"))\n",
    "        print('eta:', eta)\n",
    "        print('beta:', beta)\n",
    "        print('*** MUST APPLY pivot_algebra()! ***')"
   ]
  },
  {
   "cell_type": "code",
   "execution_count": 135,
   "id": "31cf082e-9893-4389-b89b-a725296bb05a",
   "metadata": {},
   "outputs": [],
   "source": [
    "### Cover the concepts:"
   ]
  },
  {
   "cell_type": "code",
   "execution_count": 137,
   "id": "83b964c6-baaa-4414-b419-504e029d3f9f",
   "metadata": {},
   "outputs": [
    {
     "name": "stdout",
     "output_type": "stream",
     "text": [
      "Basic Partition (beta): [0, 1, 3, 5]\n",
      "Non-basic Partition (eta): [2, 4]\n",
      "pivot_algebra() done\n",
      "Basic Solution (xbar_beta): Matrix([[3], [2], [-4], [12/5]])\n",
      "Full Solution (xbar): Matrix([[3], [2], [0], [-4], [0], [12/5]])\n",
      "Basic Feasible Solution: Not Feasible\n",
      "Current basis is not feasible.\n",
      "Feasible region is defined by constraints A * x = b and x >= 0.\n",
      "Current solution is not an extreme point.\n"
     ]
    },
    {
     "data": {
      "text/latex": [
       "$\\displaystyle \\left[\\begin{matrix}\\frac{9}{2}\\\\\\infty\\\\-12\\\\\\frac{36}{5}\\end{matrix}\\right]$"
      ],
      "text/plain": [
       "⎡9/2 ⎤\n",
       "⎢    ⎥\n",
       "⎢ ∞  ⎥\n",
       "⎢    ⎥\n",
       "⎢-12 ⎥\n",
       "⎢    ⎥\n",
       "⎣36/5⎦"
      ]
     },
     "metadata": {},
     "output_type": "display_data"
    },
    {
     "data": {
      "text/latex": [
       "$\\displaystyle x_bar + \\lambda * z_bar = Matrix([[3 - 2*lambda/3], [lambda/3 + 2], [lambda], [-lambda/3 - 4], [0], [12/5 - lambda/3]])$"
      ],
      "text/plain": [
       "<IPython.core.display.Math object>"
      ]
     },
     "metadata": {},
     "output_type": "display_data"
    },
    {
     "name": "stdout",
     "output_type": "stream",
     "text": [
      "Feasible Direction (zbar): Matrix([[-2/3], [1/3], [1], [-1/3], [0], [-1/3]])\n",
      "Basic Direction for eta[0]: Matrix([[-2/3], [1/3], [1], [-1/3], [0], [-1/3]])\n"
     ]
    },
    {
     "data": {
      "text/latex": [
       "$\\displaystyle Basic Feasible Ray Direction for eta[0]: Matrix([[-2/3], [1/3], [1], [-1/3], [0], [-1/3]])$"
      ],
      "text/plain": [
       "<IPython.core.display.Math object>"
      ]
     },
     "metadata": {},
     "output_type": "display_data"
    }
   ],
   "source": [
    "# Basic Partition\n",
    "print(f\"Basic Partition (beta): {beta}\")\n",
    "print(f\"Non-basic Partition (eta): {eta}\")\n",
    "\n",
    "# Initial pivoting steps\n",
    "pivot_algebra()\n",
    "\n",
    "# Basic Solution\n",
    "print(f\"Basic Solution (xbar_beta): {xbar_beta}\")\n",
    "print(f\"Full Solution (xbar): {xbar}\")\n",
    "\n",
    "# Basic Feasible Solution\n",
    "feasible = all(x >= 0 for x in xbar_beta)\n",
    "print(f\"Basic Feasible Solution: {xbar_beta if feasible else 'Not Feasible'}\")\n",
    "\n",
    "# Feasible Basis\n",
    "if feasible:\n",
    "    print(f\"Feasible Basis: {beta}\")\n",
    "else:\n",
    "    print(\"Current basis is not feasible.\")\n",
    "\n",
    "# Feasible Region\n",
    "print(\"Feasible region is defined by constraints A * x = b and x >= 0.\")\n",
    "\n",
    "# Extreme Point\n",
    "if feasible:\n",
    "    print(f\"Extreme Point: {xbar}\")\n",
    "else:\n",
    "    print(\"Current solution is not an extreme point.\")\n",
    "\n",
    "# Feasible Direction\n",
    "pivot_ratios(0)  # Calculate direction for non-basic variable 0\n",
    "print(f\"Feasible Direction (zbar): {zbar}\")\n",
    "\n",
    "# Basic Direction\n",
    "print(f\"Basic Direction for eta[0]: {zbar}\")\n",
    "\n",
    "# Basic Feasible Rays and Extreme Rays\n",
    "display(Math(f'Basic Feasible Ray Direction for eta[0]: {zbar}'))"
   ]
  },
  {
   "cell_type": "code",
   "execution_count": 139,
   "id": "5a470d85-4c55-4f87-9e49-6c2123f14e9d",
   "metadata": {},
   "outputs": [],
   "source": [
    "# Plot\n",
    "def pivot_plot():\n",
    "    if n-m != 2 or Perturb == True:\n",
    "        display(Latex(\"Hey friend --- give me a break\"))\n",
    "        display(Latex(\"This plotting only works if there are $n-m=2$ nonbasic variables and no rhs perturbation\"))\n",
    "        return\n",
    "    A_beta_inv = A_beta.inv()\n",
    "    Abar_eeta = A_beta_inv*A_eta\n",
    "    M = sym.zeros(n,n-m)\n",
    "    M[0:m, :] = Abar_eta\n",
    "    M[m:n, :] = -sym.eye(n-m)\n",
    "    h = sym.zeros(n,1)\n",
    "    h[0:m, 0] = xbar_beta\n",
    "    feaspoints = np.empty((0,2))\n",
    "    infeaspoints = np.empty((0,2))\n",
    "    bbar = sym.zeros(2,1)\n",
    "    M2 = sym.zeros(2,2)\n",
    "    for i in range(n-1):\n",
    "        for j in range(i+1, n):\n",
    "            bbar[0] = h[i]\n",
    "            bbar[1] = h[j]\n",
    "            M2[0,:] = M[i,:]\n",
    "            M2[1,:] = M[j,:]\n",
    "            if abs(sym.det(M2)) > 0.0001:\n",
    "                xy = M2.solve(bbar)\n",
    "                if min(h - M*xy) >= -0.00001:\n",
    "                    feaspoints = np.r_[feaspoints, np.transpose(xy)]\n",
    "                else:\n",
    "                    infeaspoints = np.r_[infeaspoints, np.transpose(xy)]\n",
    "    hull = ConvexHull(feaspoints)\n",
    "    fig, ax = plt,subplots(figsize = (8,8))\n",
    "    ax.set(xlabel = r\"$x{}$\".format(eta[0]), ylabel = r\"$x_{}$\".formatt(eta[1]))\n",
    "    ax.spines['left'].set_position(('data', 0.0))\n",
    "    ax.spines['botom'].set_position(('data', 0.0))\n",
    "    ax.spines['right'].set_color('none')\n",
    "    ax.spines['top'].set_color('none')\n",
    "    ax.xaxis.set_ticks_position('bottom')\n",
    "    ax.yaxis.set_ticks_position('left')\n",
    "    plt.xlim(float(min(cbar_eta[0], min(feaspoints[:,0])))-1.25, float(max(feapoints[:,0]))+0.25)\n",
    "    plt.ylim(float(min(cbar_eta[1], min(feaspoints[:,1])))-0.25, float(max(feapoints[:,1]))+0.25)\n",
    "    plt.fill(feaspoints[hull.vertices, 0], feaspoints[hull.vertices, 1], 'cyan', alpha = 0.3)\n",
    "    x = np.linspace(float(min(feaspoints[:,0]))-0.5, float(max(feaspoints[:,0]))+0.5, 100)\n",
    "    for i in range(m):\n",
    "        if Abar_eta[i,1] != 0:\n",
    "            y = (xbar_beta[i] - Abar_eta[i,0]*x) / Abar_eta[i,1]\n",
    "            plt.plot(x, y, linewidth = 3, label=r\"x_{}$\".format(beta[i]))\n",
    "        else:\n",
    "            plt.vlines(float(xbar_beta[i] / Abar_eta[i,0]), float(min(cbar_eta[1], min(feaspoints[:,1]))),\n",
    "                       float(max(feaspoints[:,0])), label = r\"$x_{}$\".format(beta[i]))\n",
    "    for simplex in hull.simplices:\n",
    "        pit.fill(feaspoints[simplex, 0], feaspoints[simplex, 1], 'cyan', alpha = 0.5)\n",
    "        arrow = plt.arrow(0, 0, float(cbar_eta[0]), float(cbar_eta[1]), color = 'magenta', width = 0.02, head_width = 0.1, label = r\"$\\bar{c}_\\eta$\")\n",
    "        ax.scatter(feaspoints[:, 0], feaspoints[:, 1], color = 'green', zordeer = 8)\n",
    "        ax.scatter(infeaspoints[:, 0], infeaspoints[:,1], color = 'red', zorder = 7)\n",
    "        plt.legend(loc = \"upper left\", title = \"slacks\")\n",
    "        plt.title(r\"In the space of the non-basic variables\", size = 19)\n",
    "        ax.grid()\n",
    "        plt.show"
   ]
  },
  {
   "cell_type": "code",
   "execution_count": null,
   "id": "518d12db-9f2f-480f-95ce-bcd4c8f5de9a",
   "metadata": {},
   "outputs": [],
   "source": []
  }
 ],
 "metadata": {
  "kernelspec": {
   "display_name": "Python 3 (ipykernel)",
   "language": "python",
   "name": "python3"
  },
  "language_info": {
   "codemirror_mode": {
    "name": "ipython",
    "version": 3
   },
   "file_extension": ".py",
   "mimetype": "text/x-python",
   "name": "python",
   "nbconvert_exporter": "python",
   "pygments_lexer": "ipython3",
   "version": "3.12.2"
  }
 },
 "nbformat": 4,
 "nbformat_minor": 5
}
