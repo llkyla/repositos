{
 "cells": [
  {
   "cell_type": "code",
   "execution_count": 1,
   "id": "6d984744-100d-4c4f-b1eb-0db8ed69217e",
   "metadata": {},
   "outputs": [],
   "source": [
    "%reset -f\n",
    "import itertools\n",
    "import numpy as np\n",
    "%matplotlib notebook\n",
    "#%matplotlib inline\n",
    "import matplotlib.pyplot as plt\n",
    "import gurobipy as gp\n",
    "from gurobipy import GRB\n",
    "import networkx as nx\n",
    "\n",
    "class StopExecution(Exception):\n",
    "    def _render_traceback_(self):\n",
    "        pass"
   ]
  },
  {
   "cell_type": "code",
   "execution_count": 2,
   "id": "3a16fe34-373b-469d-b41c-62b42ff36ea7",
   "metadata": {},
   "outputs": [],
   "source": [
    "# parameters\n",
    "solveLPOnly = True # set False to solve as an IP"
   ]
  },
  {
   "cell_type": "code",
   "execution_count": 3,
   "id": "f98fe534-5d73-496c-b366-9b63aa208147",
   "metadata": {},
   "outputs": [],
   "source": [
    "# K := 1\n",
    "\n",
    "Supplies= {\n",
    "    # node i : [supply commodoty[1] ... supply commoditiy[K]],\n",
    "    1: [12.],\n",
    "    2: [6.],\n",
    "    3: [-2],\n",
    "    4: [0.],\n",
    "    5: [-9.],\n",
    "    6: [-7.]}\n",
    "\n",
    "CapacityCosts = {\n",
    "    # arc (i,j): [capacity, cost commodity[1] ... cost commodity[K]],\n",
    "    (1,2): [6., 2],\n",
    "    (1,3): [8., -5],\n",
    "    (2,4): [5., 3],\n",
    "    (2,5): [7., 12],\n",
    "    (3,5): [5., -5],\n",
    "    (4,5): [8., 2],\n",
    "    (4,6): [5., 0],\n",
    "    (5,6): [5., 4]}"
   ]
  },
  {
   "cell_type": "code",
   "execution_count": 4,
   "id": "755a2f2e-e50d-4392-bab6-b0390b849162",
   "metadata": {},
   "outputs": [],
   "source": [
    "Nodes = list(Supplies.keys()) # get node list from supp data\n",
    "\n",
    "K = len(Supplies[Nodes[0]]) # get num of commods from supp data\n",
    "\n",
    "Commods = list(range(1,K+1)) # name the commodities 1,2,...,K\n",
    "\n",
    "Arcs = list(CapacityCosts.keys()) # get arc list from Capacity/Cost data\n",
    "\n",
    "ArcsCrossCommods = list(itertools.product(Arcs,Commods)) # make cross product \n",
    "# of Arcs and Commods for var indexing"
   ]
  },
  {
   "cell_type": "code",
   "execution_count": 9,
   "id": "ce6caa01-9024-49dd-934a-b80ab874aecc",
   "metadata": {},
   "outputs": [
    {
     "name": "stdout",
     "output_type": "stream",
     "text": [
      "Restricted license - for non-production use only - expires 2025-11-24\n"
     ]
    }
   ],
   "source": [
    "model = gp.Model()\n",
    "\n",
    "if solveLPOnly == True:\n",
    "    x = model.addVars(ArcsCrossCommods)\n",
    "else:\n",
    "    x = model.addVars(ArcsCrossCommods, vtype = GRB.INTEGER)\n",
    "model.setObjective(sum(sum(CapacityCosts[i,j][k] * x[(i,j),k] for (i,j) in Arcs) for k in Commods), GRB.MINIMIZE)\n",
    "\n",
    "model.addConstrs(\n",
    "    (sum(x[(i,j),k] for j in Nodes if (i,j) in Arcs) - sum(x[(j,i),k] for j in Nodes if (j,i) in Arcs) == Supplies[i][k-1] for i in Nodes for k in Commods))\n",
    "\n",
    "model.update()"
   ]
  },
  {
   "cell_type": "code",
   "execution_count": 201,
   "id": "d4b09d8f-68b9-47d6-b4dc-080007b1785c",
   "metadata": {},
   "outputs": [
    {
     "name": "stdout",
     "output_type": "stream",
     "text": [
      "Gurobi Optimizer version 11.0.3 build v11.0.3rc0 (mac64[x86] - Darwin 23.5.0 23F79)\n",
      "\n",
      "CPU model: Intel(R) Core(TM) i7-8850H CPU @ 2.60GHz\n",
      "Thread count: 6 physical cores, 12 logical processors, using up to 12 threads\n",
      "\n",
      "Optimize a model with 6 rows, 8 columns and 16 nonzeros\n",
      "Model fingerprint: 0x01bb9499\n",
      "Coefficient statistics:\n",
      "  Matrix range     [1e+00, 1e+00]\n",
      "  Objective range  [2e+00, 1e+01]\n",
      "  Bounds range     [0e+00, 0e+00]\n",
      "  RHS range        [2e+00, 1e+01]\n",
      "Presolve removed 4 rows and 4 columns\n",
      "Presolve time: 0.01s\n",
      "Presolved: 2 rows, 4 columns, 8 nonzeros\n",
      "\n",
      "Iteration    Objective       Primal Inf.    Dual Inf.      Time\n",
      "       0   -9.2000000e+01   2.000000e+00   0.000000e+00      0s\n",
      "       1   -8.8000000e+01   0.000000e+00   0.000000e+00      0s\n",
      "\n",
      "Solved in 1 iterations and 0.01 seconds (0.00 work units)\n",
      "Optimal objective -8.800000000e+01\n",
      " \n",
      "***** Flows: \n",
      "x[( 1 , 2 ), *]= 0.0  capacity: 6.0\n",
      "x[( 1 , 3 ), *]= 12.0  capacity: 8.0\n",
      "x[( 2 , 4 ), *]= 6.0  capacity: 5.0\n",
      "x[( 2 , 5 ), *]= 0.0  capacity: 7.0\n",
      "x[( 3 , 5 ), *]= 10.0  capacity: 5.0\n",
      "x[( 4 , 5 ), *]= 0.0  capacity: 8.0\n",
      "x[( 4 , 6 ), *]= 6.0  capacity: 5.0\n",
      "x[( 5 , 6 ), *]= 1.0  capacity: 5.0\n"
     ]
    }
   ],
   "source": [
    "model.optimize()\n",
    "if model.status != GRB.Status.OPTIMAL:\n",
    "    print(\"***** Gurobi solve status:\", model.status)\n",
    "    print(\"***** This is a problem.Model does not have an optimal solution\")\n",
    "    raise StopExecution\n",
    "print(\" \")\n",
    "print(\"***** Flows: \")\n",
    "for (i,j) in Arcs:\n",
    "    arcflow = \"\"\n",
    "    for k in Commods:\n",
    "        arcflow += str(round(x[(i,j),k].X, 4))\n",
    "        arcflow += \" \"\n",
    "    print(\"x[(\", i, \",\", j, \"), *]=\", arcflow, \"capacity:\", CapacityCosts[i,j][0])"
   ]
  },
  {
   "cell_type": "code",
   "execution_count": 203,
   "id": "57885cbb-10d1-4331-9201-4ae08d466e7f",
   "metadata": {},
   "outputs": [
    {
     "data": {
      "text/plain": [
       "'\\nG = nx.DiGraph()\\nG.add_nodes_from(Nodes)\\nG.add_edges_from(Arcs)\\nplt.figure(figsize=(8,8))\\nedge_labels = nx.draw_networkx_edge_labels(G, edge_labels = CapacityCosts, pos = nx.shell_layout(G), label_pos=0.3, font_size=10)\\nnx.draw_shell(G, with_labels=True, node_color=\\'cyan\\', node_size=800, font_size=20, arrowsize=20)\\nprint(\"Network with node labels and capacities/costs on arcs\")\\n'"
      ]
     },
     "execution_count": 203,
     "metadata": {},
     "output_type": "execute_result"
    }
   ],
   "source": [
    "'''\n",
    "G = nx.DiGraph()\n",
    "G.add_nodes_from(Nodes)\n",
    "G.add_edges_from(Arcs)\n",
    "plt.figure(figsize=(8,8))\n",
    "edge_labels = nx.draw_networkx_edge_labels(G, edge_labels = CapacityCosts, pos = nx.shell_layout(G), label_pos=0.3, font_size=10)\n",
    "nx.draw_shell(G, with_labels=True, node_color='cyan', node_size=800, font_size=20, arrowsize=20)\n",
    "print(\"Network with node labels and capacities/costs on arcs\")\n",
    "'''"
   ]
  },
  {
   "cell_type": "code",
   "execution_count": null,
   "id": "eb72b0f6-50ab-4b14-baeb-8a94962dcce4",
   "metadata": {},
   "outputs": [],
   "source": []
  }
 ],
 "metadata": {
  "kernelspec": {
   "display_name": "Python 3 (ipykernel)",
   "language": "python",
   "name": "python3"
  },
  "language_info": {
   "codemirror_mode": {
    "name": "ipython",
    "version": 3
   },
   "file_extension": ".py",
   "mimetype": "text/x-python",
   "name": "python",
   "nbconvert_exporter": "python",
   "pygments_lexer": "ipython3",
   "version": "3.12.2"
  }
 },
 "nbformat": 4,
 "nbformat_minor": 5
}
