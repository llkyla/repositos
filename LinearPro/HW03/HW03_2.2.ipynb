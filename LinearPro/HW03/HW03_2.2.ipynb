{
 "cells": [
  {
   "cell_type": "code",
   "execution_count": 1,
   "id": "ae383eb8-52e0-4f50-ba62-f44608b2fb85",
   "metadata": {},
   "outputs": [],
   "source": [
    "# Sparse solution for Linear Equation\n",
    "## sparse solution: one with few nonzeros"
   ]
  },
  {
   "cell_type": "code",
   "execution_count": 3,
   "id": "d93bfd55-20ae-4818-bfcc-0c69126b66c5",
   "metadata": {},
   "outputs": [],
   "source": [
    "%reset -f\n",
    "import gurobipy as gp\n",
    "from gurobipy import GRB\n",
    "import numpy as np"
   ]
  },
  {
   "cell_type": "code",
   "execution_count": 4,
   "id": "64a43d18-735a-4bf4-9b30-44835a2d3936",
   "metadata": {},
   "outputs": [],
   "source": [
    "# Parameters\n",
    "m = 50  # Number of equations\n",
    "n = 500  # Number of variables"
   ]
  },
  {
   "cell_type": "code",
   "execution_count": 5,
   "id": "0c1af871-b6eb-4041-a42e-14f33320c411",
   "metadata": {},
   "outputs": [],
   "source": [
    "# 1. Generate A_{m*n} with entries 0 or 1 (probability 0.5)\n",
    "A = np.random.randint(2, size=(m, n))"
   ]
  },
  {
   "cell_type": "code",
   "execution_count": 6,
   "id": "70bf54eb-bf70-445f-95ae-61f756c4ac25",
   "metadata": {},
   "outputs": [],
   "source": [
    "# 2. Sparse vector z\n",
    "z = np.zeros(n)\n",
    "z[:m//2] = np.random.uniform(-1, 1, size=m//2) # 1st m/2 entries with random val in [-1,1]"
   ]
  },
  {
   "cell_type": "code",
   "execution_count": 11,
   "id": "2504398d-8109-4c11-b9b6-3e42910e1dd0",
   "metadata": {},
   "outputs": [],
   "source": [
    "# 3. b = A * z\n",
    "b = A @ z"
   ]
  },
  {
   "cell_type": "code",
   "execution_count": 13,
   "id": "a6fb1ce9-ce92-445d-8c64-5b8415e2294c",
   "metadata": {},
   "outputs": [
    {
     "name": "stdout",
     "output_type": "stream",
     "text": [
      "Restricted license - for non-production use only - expires 2025-11-24\n"
     ]
    }
   ],
   "source": [
    "# 4. Set up the Gurobi model\n",
    "model = gp.Model(\"1_norm_minimization\")\n",
    "\n",
    "# Add variables x_j, with bounds -1 <= x_j <= 1\n",
    "x = model.addVars(n, lb=-1, ub=1, name=\"x\") # create n vars; compents of \\vec{x}\n",
    "\n",
    "# Add auxiliary variables for absolute values of x_j\n",
    "u = model.addVars(n, lb=0, name=\"u\") # create n aux vars u; abs val of x_j"
   ]
  },
  {
   "cell_type": "code",
   "execution_count": 15,
   "id": "2cd1bbdf-500c-4b4b-a923-ceafff3bfcfc",
   "metadata": {},
   "outputs": [],
   "source": [
    "# Objective: Minimize the sum of absolute values |x_j|\n",
    "model.setObjective(gp.quicksum(u[j] for j in range(n)), GRB.MINIMIZE) # sum all u_j, minimize hence 1-norm\n",
    "\n",
    "# Constraints: A @ x == b\n",
    "for i in range(m):\n",
    "    model.addConstr(gp.quicksum(A[i, j] * x[j] for j in range(n)) == b[i], name=f\"eq_{i}\") # add m constraints; sum up A[i,j] \n",
    "                                                                                           # enforce j to correspond each entries b[i]\n",
    "\n",
    "# Constraints: u[j] >= |x_j|\n",
    "for j in range(n):\n",
    "    model.addConstr(u[j] >= x[j], name=f\"u_ge_x_{j}\")\n",
    "    model.addConstr(u[j] >= -x[j], name=f\"u_ge_neg_x_{j}\") # force u_j to be abs of x_j for 1-norm"
   ]
  },
  {
   "cell_type": "code",
   "execution_count": 16,
   "id": "d2daee76-c416-46b5-9786-db3f74d1f3ee",
   "metadata": {},
   "outputs": [
    {
     "name": "stdout",
     "output_type": "stream",
     "text": [
      "Gurobi Optimizer version 11.0.3 build v11.0.3rc0 (mac64[x86] - Darwin 24.0.0 24A335)\n",
      "\n",
      "CPU model: Intel(R) Core(TM) i7-8850H CPU @ 2.60GHz\n",
      "Thread count: 6 physical cores, 12 logical processors, using up to 12 threads\n",
      "\n",
      "Optimize a model with 1050 rows, 1000 columns and 14504 nonzeros\n",
      "Model fingerprint: 0x9286a5a6\n",
      "Coefficient statistics:\n",
      "  Matrix range     [1e+00, 1e+00]\n",
      "  Objective range  [1e+00, 1e+00]\n",
      "  Bounds range     [1e+00, 1e+00]\n",
      "  RHS range        [2e-01, 6e+00]\n",
      "Presolve time: 0.08s\n",
      "Presolved: 1050 rows, 1000 columns, 14504 nonzeros\n",
      "\n",
      "Iteration    Objective       Primal Inf.    Dual Inf.      Time\n",
      "       0    0.0000000e+00   9.921244e+03   0.000000e+00      0s\n",
      "    2323    1.0910936e+01   0.000000e+00   0.000000e+00      0s\n",
      "\n",
      "Solved in 2323 iterations and 0.24 seconds (0.18 work units)\n",
      "Optimal objective  1.091093636e+01\n"
     ]
    }
   ],
   "source": [
    "# Optimize the model\n",
    "model.optimize()"
   ]
  },
  {
   "cell_type": "code",
   "execution_count": 17,
   "id": "fc699d23-c8fd-46fb-97e4-890493c20499",
   "metadata": {},
   "outputs": [
    {
     "name": "stdout",
     "output_type": "stream",
     "text": [
      "Number of non-zeros in the solution: 50\n",
      "Solution x: [ 0.          0.          0.          0.          0.          0.\n",
      "  0.          0.          0.11650806 -0.39645576  0.06140898  0.24842498\n",
      "  0.          0.51391748  0.          0.31543265  0.         -0.01040729\n",
      "  0.02205386  0.60967559  0.          0.04876255  0.47258601 -0.66432023\n",
      "  0.          0.         -0.00859574  0.30013605 -0.20513332  0.\n",
      "  0.          0.          0.13852673  0.          0.          0.35214109\n",
      "  0.          0.          0.          0.          0.          0.\n",
      "  0.          0.          0.30439753  0.          0.          0.\n",
      "  0.          0.          0.          0.          0.          0.\n",
      "  0.          0.          0.          0.          0.          0.\n",
      "  0.          0.          0.          0.          0.          0.\n",
      "  0.          0.          0.          0.34175362  0.          0.\n",
      "  0.          0.          0.          0.          0.07026172 -0.16696254\n",
      "  0.          0.          0.          0.          0.          0.\n",
      "  0.          0.          0.          0.          0.          0.21732866\n",
      "  0.          0.          0.          0.          0.          0.\n",
      "  0.          0.          0.          0.          0.          0.\n",
      "  0.          0.          0.          0.          0.          0.\n",
      "  0.19370102  0.          0.          0.          0.          0.\n",
      "  0.          0.          0.          0.          0.          0.\n",
      "  0.         -0.27626583  0.          0.          0.          0.\n",
      "  0.          0.          0.          0.          0.          0.\n",
      "  0.05540114  0.          0.          0.          0.          0.\n",
      "  0.          0.          0.          0.          0.0409339   0.\n",
      "  0.          0.          0.          0.          0.          0.\n",
      "  0.          0.          0.          0.          0.          0.\n",
      "  0.          0.          0.          0.          0.          0.\n",
      "  0.          0.          0.          0.          0.          0.\n",
      "  0.          0.          0.          0.          0.          0.\n",
      "  0.          0.          0.          0.          0.          0.\n",
      "  0.          0.          0.          0.          0.          0.\n",
      "  0.          0.          0.          0.          0.          0.\n",
      "  0.          0.          0.          0.          0.          0.\n",
      "  0.          0.          0.          0.          0.          0.\n",
      "  0.15776727  0.          0.          0.          0.          0.\n",
      "  0.          0.          0.          0.21772861  0.          0.\n",
      "  0.          0.          0.          0.          0.          0.\n",
      "  0.          0.          0.27900434  0.          0.          0.\n",
      "  0.          0.          0.          0.          0.          0.\n",
      "  0.          0.          0.         -0.1327694   0.          0.\n",
      "  0.          0.          0.          0.          0.          0.\n",
      "  0.          0.          0.          0.          0.          0.\n",
      " -0.09813836  0.          0.          0.          0.          0.\n",
      "  0.          0.0078371  -0.52719346  0.          0.          0.\n",
      "  0.09180941  0.          0.          0.          0.          0.\n",
      "  0.          0.21969987  0.          0.          0.          0.\n",
      "  0.          0.          0.          0.          0.          0.\n",
      "  0.          0.          0.          0.          0.          0.\n",
      "  0.          0.          0.          0.          0.          0.\n",
      "  0.          0.          0.         -0.03985172  0.          0.\n",
      "  0.          0.          0.          0.          0.          0.\n",
      "  0.          0.          0.          0.          0.          0.\n",
      "  0.          0.          0.          0.          0.          0.\n",
      "  0.          0.          0.          0.          0.          0.\n",
      "  0.          0.          0.          0.          0.          0.\n",
      "  0.          0.          0.          0.          0.          0.\n",
      "  0.          0.          0.          0.          0.          0.\n",
      "  0.          0.          0.          0.          0.          0.\n",
      "  0.          0.13306152  0.          0.          0.          0.\n",
      "  0.          0.          0.          0.          0.          0.55917305\n",
      "  0.          0.          0.          0.          0.          0.\n",
      "  0.          0.          0.          0.         -0.18881833  0.\n",
      "  0.          0.10145766  0.          0.15813012  0.          0.\n",
      "  0.          0.          0.          0.          0.          0.\n",
      "  0.66267874  0.          0.          0.          0.          0.\n",
      "  0.          0.          0.          0.         -0.34534116  0.\n",
      "  0.          0.          0.         -0.14648461  0.          0.\n",
      "  0.          0.          0.          0.          0.          0.\n",
      " -0.14520326  0.          0.          0.          0.          0.\n",
      "  0.          0.          0.          0.          0.          0.\n",
      "  0.          0.          0.          0.          0.          0.\n",
      "  0.          0.          0.          0.          0.11776803  0.\n",
      "  0.          0.          0.          0.          0.          0.\n",
      "  0.          0.          0.          0.          0.         -0.10451209\n",
      "  0.          0.          0.03025174  0.          0.          0.\n",
      "  0.          0.          0.          0.          0.          0.\n",
      "  0.          0.          0.          0.          0.          0.\n",
      "  0.          0.          0.          0.          0.          0.\n",
      "  0.          0.          0.          0.1050438   0.          0.\n",
      "  0.          0.          0.          0.          0.          0.\n",
      "  0.          0.          0.          0.          0.          0.\n",
      "  0.          0.          0.          0.          0.          0.\n",
      "  0.          0.          0.18972039  0.          0.          0.\n",
      "  0.          0.        ]\n"
     ]
    }
   ],
   "source": [
    "# 5. Results\n",
    "sparse_solution = np.array([x[j].X for j in range(n)])\n",
    "non_zero_count = np.sum(np.abs(sparse_solution) > 1e-6)\n",
    "\n",
    "print(f\"Number of non-zeros in the solution: {non_zero_count}\")\n",
    "print(f\"Solution x: {sparse_solution}\")"
   ]
  },
  {
   "cell_type": "code",
   "execution_count": null,
   "id": "fb1b4f07-48cf-4617-a656-1665c6cbb7dd",
   "metadata": {},
   "outputs": [],
   "source": []
  }
 ],
 "metadata": {
  "kernelspec": {
   "display_name": "Python 3 (ipykernel)",
   "language": "python",
   "name": "python3"
  },
  "language_info": {
   "codemirror_mode": {
    "name": "ipython",
    "version": 3
   },
   "file_extension": ".py",
   "mimetype": "text/x-python",
   "name": "python",
   "nbconvert_exporter": "python",
   "pygments_lexer": "ipython3",
   "version": "3.12.2"
  }
 },
 "nbformat": 4,
 "nbformat_minor": 5
}
