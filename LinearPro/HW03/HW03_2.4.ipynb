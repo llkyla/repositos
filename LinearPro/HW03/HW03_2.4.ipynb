{
 "cells": [
  {
   "cell_type": "code",
   "execution_count": 12,
   "id": "3e3b2ca1-26b0-43a3-a1fe-87f5e5b3bbce",
   "metadata": {},
   "outputs": [],
   "source": [
    "import gurobipy as gp\n",
    "from gurobipy import GRB"
   ]
  },
  {
   "cell_type": "code",
   "execution_count": 14,
   "id": "111bab60-af58-4209-90e8-c4a2616ee768",
   "metadata": {},
   "outputs": [],
   "source": [
    "# Sets and parameters (example data)\n",
    "m = 3  # number of ingredients\n",
    "n = 2  # number of products\n",
    "b = [100, 150, 200]  # availability of ingredients\n",
    "c = [2, 3, 1]  # cost per kilogram of ingredients\n",
    "d = [50, 60]  # minimum production requirement for products\n",
    "e = [10, 15]  # revenue per kilogram of products\n",
    "l = [[0.2, 0.1], [0.3, 0.4], [0.1, 0.2]]  # lower bound on fractions\n",
    "u = [[0.8, 0.7], [0.5, 0.6], [0.4, 0.5]]  # upper bound on fractions"
   ]
  },
  {
   "cell_type": "code",
   "execution_count": 16,
   "id": "0109dd0c-bb1b-4a46-b2d5-e2932a8fd9cd",
   "metadata": {},
   "outputs": [],
   "source": [
    "# Create a new model\n",
    "model = gp.Model(\"Mixitup\")\n",
    "\n",
    "# Decision variables\n",
    "x = model.addVars(n, vtype=GRB.CONTINUOUS, name=\"x\")  # amount of each product\n",
    "y = model.addVars(m, n, vtype=GRB.CONTINUOUS, name=\"y\")  # amount of each ingredient in each product"
   ]
  },
  {
   "cell_type": "code",
   "execution_count": 18,
   "id": "e7d937d4-2acf-4781-87d1-c127027c0783",
   "metadata": {},
   "outputs": [],
   "source": [
    "# Objective: Maximize profit\n",
    "profit = gp.quicksum(e[j] * x[j] for j in range(n)) - gp.quicksum(c[i] * y[i, j] for i in range(m) for j in range(n))\n",
    "model.setObjective(profit, GRB.MAXIMIZE)"
   ]
  },
  {
   "cell_type": "code",
   "execution_count": 20,
   "id": "78707c95-82a1-4fdf-a665-7f9855251925",
   "metadata": {},
   "outputs": [],
   "source": [
    "# Constraints\n",
    "# Ingredient availability\n",
    "for i in range(m):\n",
    "    model.addConstr(gp.quicksum(y[i, j] for j in range(n)) <= b[i], name=f\"availability_{i}\")\n",
    "\n",
    "# Production requirement\n",
    "for j in range(n):\n",
    "    model.addConstr(x[j] >= d[j], name=f\"production_{j}\")\n",
    "\n",
    "# Ingredient composition bounds\n",
    "for i in range(m):\n",
    "    for j in range(n):\n",
    "        model.addConstr(y[i, j] >= l[i][j] * x[j], name=f\"lower_bound_{i}_{j}\")\n",
    "        model.addConstr(y[i, j] <= u[i][j] * x[j], name=f\"upper_bound_{i}_{j}\")\n"
   ]
  },
  {
   "cell_type": "code",
   "execution_count": 22,
   "id": "68a0adbe-2ff8-4a60-8e49-b392c50d5278",
   "metadata": {},
   "outputs": [
    {
     "name": "stdout",
     "output_type": "stream",
     "text": [
      "Gurobi Optimizer version 11.0.3 build v11.0.3rc0 (mac64[x86] - Darwin 24.0.0 24A335)\n",
      "\n",
      "CPU model: Intel(R) Core(TM) i7-8850H CPU @ 2.60GHz\n",
      "Thread count: 6 physical cores, 12 logical processors, using up to 12 threads\n",
      "\n",
      "Optimize a model with 17 rows, 8 columns and 32 nonzeros\n",
      "Model fingerprint: 0xbb9389f9\n",
      "Coefficient statistics:\n",
      "  Matrix range     [1e-01, 1e+00]\n",
      "  Objective range  [1e+00, 2e+01]\n",
      "  Bounds range     [0e+00, 0e+00]\n",
      "  RHS range        [5e+01, 2e+02]\n",
      "Presolve removed 15 rows and 6 columns\n",
      "Presolve time: 0.01s\n",
      "Presolved: 2 rows, 2 columns, 4 nonzeros\n",
      "\n",
      "Iteration    Objective       Primal Inf.    Dual Inf.      Time\n",
      "       0    1.2490000e+04   5.060807e+02   0.000000e+00      0s\n",
      "       3    4.9525000e+03   0.000000e+00   0.000000e+00      0s\n",
      "\n",
      "Solved in 3 iterations and 0.05 seconds (0.00 work units)\n",
      "Optimal objective  4.952500000e+03\n"
     ]
    }
   ],
   "source": [
    "# Solve the model\n",
    "model.optimize()"
   ]
  },
  {
   "cell_type": "code",
   "execution_count": 24,
   "id": "324aaa22-26dc-44b6-b9cd-6661cab10148",
   "metadata": {},
   "outputs": [
    {
     "name": "stdout",
     "output_type": "stream",
     "text": [
      "Optimal solution found.\n",
      "Product 0: 50.0 kg produced\n",
      "Product 1: 337.5 kg produced\n",
      "Ingredient 0 in product 0: 10.0 kg used\n",
      "Ingredient 0 in product 1: 33.75 kg used\n",
      "Ingredient 1 in product 0: 15.0 kg used\n",
      "Ingredient 1 in product 1: 135.0 kg used\n",
      "Ingredient 2 in product 0: 5.0 kg used\n",
      "Ingredient 2 in product 1: 67.5 kg used\n"
     ]
    }
   ],
   "source": [
    "# Output the results\n",
    "if model.status == GRB.OPTIMAL:\n",
    "    print(\"Optimal solution found.\")\n",
    "    for j in range(n):\n",
    "        print(f\"Product {j}: {x[j].x} kg produced\")\n",
    "    for i in range(m):\n",
    "        for j in range(n):\n",
    "            print(f\"Ingredient {i} in product {j}: {y[i, j].x} kg used\")\n",
    "else:\n",
    "    print(\"No optimal solution found.\")"
   ]
  },
  {
   "cell_type": "code",
   "execution_count": null,
   "id": "3235c733-de6d-45fc-8f67-d69b69018375",
   "metadata": {},
   "outputs": [],
   "source": []
  }
 ],
 "metadata": {
  "kernelspec": {
   "display_name": "Python 3 (ipykernel)",
   "language": "python",
   "name": "python3"
  },
  "language_info": {
   "codemirror_mode": {
    "name": "ipython",
    "version": 3
   },
   "file_extension": ".py",
   "mimetype": "text/x-python",
   "name": "python",
   "nbconvert_exporter": "python",
   "pygments_lexer": "ipython3",
   "version": "3.12.2"
  }
 },
 "nbformat": 4,
 "nbformat_minor": 5
}
