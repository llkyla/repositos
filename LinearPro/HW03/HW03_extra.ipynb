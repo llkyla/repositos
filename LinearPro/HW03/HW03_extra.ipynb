{
 "cells": [
  {
   "cell_type": "code",
   "execution_count": 37,
   "id": "e5ce2ba2-92c4-4d8c-adce-bbebae702394",
   "metadata": {},
   "outputs": [],
   "source": [
    "%reset -f"
   ]
  },
  {
   "cell_type": "code",
   "execution_count": 39,
   "id": "9e430a34-63e7-4717-86e9-1ac7d3e0ffba",
   "metadata": {},
   "outputs": [],
   "source": [
    "import numpy as np\n",
    "import sympy as sym\n",
    "sym.init_printing(use_latex='mathjax')\n",
    "import copy\n",
    "import operator\n",
    "eps = sym.symbols('epsilon')\n",
    "lam = sym.symbols('lambda')\n",
    "xlz = sym.Symbol('\\\\bar{x} + \\\\lambda \\\\bar{z} :')\n",
    "from IPython.display import Latex, Math\n",
    "%matplotlib inline\n",
    "import matplotlib.pyplot as plt\n",
    "from matplotlib.patches import Polygon\n",
    "from matplotlib.ticker import AutoMinorLocator, MultipleLocator\n",
    "from scipy.spatial import ConvexHull, convex_hull_plot_2d\n",
    "import itertools\n",
    "import seaborn as sns; sns.set(); sns.set_style(\"whitegrid\"); color_list = sns.color_palette(\"muted\")"
   ]
  },
  {
   "cell_type": "code",
   "execution_count": 41,
   "id": "ac07ff0e-ea6c-47a8-8fe2-605287100fe2",
   "metadata": {},
   "outputs": [],
   "source": [
    "# perturb\n",
    "def pivot_perturb():\n",
    "    global m, b, Perturb, eps\n",
    "    Perturb = True\n",
    "    for i in range(m):\n",
    "        for j in range(m):\n",
    "            b[i] += A_beta[i,j]*eps**(j+1)\n",
    "        print('pivot_perturb() done')"
   ]
  },
  {
   "cell_type": "code",
   "execution_count": 43,
   "id": "653ef8e8-68ba-4649-9a50-93be05e65915",
   "metadata": {},
   "outputs": [],
   "source": [
    "# algebra\n",
    "def pivot_algebra():\n",
    "    global m, n, objval, xbar, xbar_beta, xbar_eta, ybar, cbar_eta, ratios\n",
    "    xbar_beta = A_beta.solve(b)\n",
    "    xbar_eta = sym.zeros(n-m, 1)\n",
    "    objval = c_beta.dot(xbar_beta)\n",
    "    xbar = sym.zeros(n,1)\n",
    "    for i in range(m): xbar[beta[i]] = xbar_beta[i]\n",
    "    for j in range(n-m): xbar[eta[j]] = xbar_eta[j]\n",
    "    ybar = A_beta.transpose().solve(c[beta,0])\n",
    "    cbar_eta = c_eta - A_eta.transpose()*ybar\n",
    "    ratios = sym.oo*sym.ones(m,1)\n",
    "    print('pivot_algebra() done')"
   ]
  },
  {
   "cell_type": "code",
   "execution_count": 45,
   "id": "ab7a1e21-6180-4bac-9f63-a4adba76d56a",
   "metadata": {},
   "outputs": [],
   "source": [
    "# numerical version of a d-by-1 array\n",
    "def N(parray):\n",
    "    for i in range(parray.shape[0]): display(sym.N(parray[i]))"
   ]
  },
  {
   "cell_type": "code",
   "execution_count": 47,
   "id": "48ded9b1-59c1-49b3-b6eb-f32acc2fe24e",
   "metadata": {},
   "outputs": [],
   "source": [
    "# ratios (and direction) for a given nonbasic index eta_j\n",
    "def pivot_ratios(j):\n",
    "    global ratios, zbar\n",
    "    if j>n-m-1:\n",
    "        display(Latex(\"erro: $j$ is out of range.\"))\n",
    "    else:\n",
    "        A_etaj = copy.copy(A[:,eta[j]])\n",
    "        Abar_etaj = A_beta.solve(A_etaj)\n",
    "        for i in range(m):\n",
    "            if Abar_etaj[i] > 0:\n",
    "                ratios[i] = xbar_beta[i] / Abar_etaj[i]\n",
    "            else:\n",
    "                ratios[i] = sym.oo\n",
    "        display(ratios)\n",
    "        zbar = sym.zeros(n,1)\n",
    "        for i in range(m): zbar[beta[i]] = -Abar_etaj[i]\n",
    "        zbar[eta[j]] = 1\n",
    "        display(xlz, xbar + lam*zbar)"
   ]
  },
  {
   "cell_type": "code",
   "execution_count": 49,
   "id": "b1b510ca-f269-4227-b705-da6886cd67ea",
   "metadata": {},
   "outputs": [],
   "source": [
    "# swap\n",
    "def pivot_swap(j,i):\n",
    "    global A_beta, A_eta, c_beta, c_eta\n",
    "    if i > m-1 or j > n-m-1:\n",
    "        display(Latex(\"error: $j$ or $i$ is out of range. swap not accepted\"))\n",
    "    else:\n",
    "        save = copy.copy(beta[i])\n",
    "        beta[i] = copy.copy(eta[j])\n",
    "        eta[j] = save\n",
    "        A_beta = copy.copy(A[:, beta])\n",
    "        A_eta = copy.copy(A[:, eta])\n",
    "        c_beta = copy.copy(c[beta,0])\n",
    "        c_eta = copy.copy(c[eta,0])\n",
    "        display(Latex(\"swap accepted --- new partition: \"))\n",
    "        print('eta: ', eta)\n",
    "        print('beta: ', beta)\n",
    "        print('*** MUST APPLY pivot_algebra()! ***')"
   ]
  },
  {
   "cell_type": "code",
   "execution_count": 65,
   "id": "109f395e-48aa-4282-8e09-500462df5cfb",
   "metadata": {},
   "outputs": [],
   "source": [
    "A = sym.Matrix(([1,1],\n",
    "                [2,1]))\n",
    "m = A.shape[0]\n",
    "n = A.shape[1]\n",
    "c = sym.Matrix([[3],[2]])\n",
    "b = sym.Matrix([[4], [5]])\n",
    "beta = [0, 1]  \n",
    "eta = [j for j in range(n) if j not in beta]\n",
    "\n",
    "A_beta = A[:, beta]\n",
    "A_eta = A[:, eta]\n",
    "c_beta = c[beta, :]\n",
    "c_eta = c[eta, :]\n",
    "Perturb = True"
   ]
  },
  {
   "cell_type": "code",
   "execution_count": 67,
   "id": "feb0909c-50fa-45f9-a6d9-a1276d3fe6af",
   "metadata": {},
   "outputs": [
    {
     "data": {
      "text/latex": [
       "$\\displaystyle \\left[\\begin{matrix}1 & 1\\\\2 & 1\\end{matrix}\\right]$"
      ],
      "text/plain": [
       "⎡1  1⎤\n",
       "⎢    ⎥\n",
       "⎣2  1⎦"
      ]
     },
     "execution_count": 67,
     "metadata": {},
     "output_type": "execute_result"
    }
   ],
   "source": [
    "A"
   ]
  },
  {
   "cell_type": "code",
   "execution_count": 69,
   "id": "afa95067-07b3-4ba3-8cfd-d2e15b70f612",
   "metadata": {},
   "outputs": [
    {
     "data": {
      "text/latex": [
       "$\\displaystyle \\left[\\begin{matrix}3\\\\2\\end{matrix}\\right]$"
      ],
      "text/plain": [
       "⎡3⎤\n",
       "⎢ ⎥\n",
       "⎣2⎦"
      ]
     },
     "execution_count": 69,
     "metadata": {},
     "output_type": "execute_result"
    }
   ],
   "source": [
    "c"
   ]
  },
  {
   "cell_type": "code",
   "execution_count": 73,
   "id": "491f0609-76d1-4e53-bf81-237ebc6a4fe5",
   "metadata": {},
   "outputs": [
    {
     "name": "stdout",
     "output_type": "stream",
     "text": [
      "pivot_perturb() done\n",
      "pivot_perturb() done\n",
      "pivot_algebra() done\n"
     ]
    }
   ],
   "source": [
    "pivot_perturb()\n",
    "pivot_algebra()"
   ]
  },
  {
   "cell_type": "code",
   "execution_count": 77,
   "id": "0c5b9482-b523-4f54-bf70-2a31e04c11c0",
   "metadata": {},
   "outputs": [
    {
     "name": "stdout",
     "output_type": "stream",
     "text": [
      "Example (i): Optimal Solution\n"
     ]
    },
    {
     "data": {
      "text/latex": [
       "$\\displaystyle 2.0 \\epsilon + 1.0$"
      ],
      "text/plain": [
       "2.0⋅ε + 1.0"
      ]
     },
     "metadata": {},
     "output_type": "display_data"
    },
    {
     "data": {
      "text/latex": [
       "$\\displaystyle 2.0 \\epsilon^{2} + 3.0$"
      ],
      "text/plain": [
       "     2      \n",
       "2.0⋅ε  + 3.0"
      ]
     },
     "metadata": {},
     "output_type": "display_data"
    },
    {
     "data": {
      "text/latex": [
       "Optimal Objective Value: 4*epsilon**2 + 6*epsilon + 9"
      ],
      "text/plain": [
       "<IPython.core.display.Latex object>"
      ]
     },
     "metadata": {},
     "output_type": "display_data"
    }
   ],
   "source": [
    "# (i) Optimal Solution is reached\n",
    "print(\"Example (i): Optimal Solution\")\n",
    "N(xbar)\n",
    "display(Latex(f\"Optimal Objective Value: {objval}\"))"
   ]
  },
  {
   "cell_type": "code",
   "execution_count": 83,
   "id": "18b3a969-fa00-4153-afc1-a2461506771c",
   "metadata": {},
   "outputs": [
    {
     "data": {
      "text/latex": [
       "Ratios for checking unboundedness:"
      ],
      "text/plain": [
       "<IPython.core.display.Latex object>"
      ]
     },
     "metadata": {},
     "output_type": "display_data"
    },
    {
     "data": {
      "text/latex": [
       "The solution is bounded."
      ],
      "text/plain": [
       "<IPython.core.display.Latex object>"
      ]
     },
     "metadata": {},
     "output_type": "display_data"
    }
   ],
   "source": [
    "## (ii) Unboundedness\n",
    "\n",
    "ratios = sym.zeros(m, 1)\n",
    "display(Latex(\"Ratios for checking unboundedness:\"))\n",
    "\n",
    "# Calculate the ratios for each non-basic variable\n",
    "for j in range(len(eta)):\n",
    "    A_etaj = A[:, eta[j]]\n",
    "    Abar_etaj = A_beta.solve(A_etaj)\n",
    "    \n",
    "    for i in range(m):\n",
    "        if Abar_etaj[i] > 0:\n",
    "            ratios[i] = xbar_beta[i] / Abar_etaj[i]\n",
    "        else:\n",
    "            ratios[i] = sym.oo\n",
    "            \n",
    "    display(ratios)\n",
    "\n",
    "# Check if any ratio is infinite (indicating unboundedness)\n",
    "if any(ratio == sym.oo for ratio in ratios):\n",
    "    display(Latex(\"The solution is unbounded.\"))\n",
    "else:\n",
    "    display(Latex(\"The solution is bounded.\"))"
   ]
  },
  {
   "cell_type": "code",
   "execution_count": null,
   "id": "38227ca2-5b07-45ae-94d2-a0bb52f34e93",
   "metadata": {},
   "outputs": [],
   "source": []
  }
 ],
 "metadata": {
  "kernelspec": {
   "display_name": "Python 3 (ipykernel)",
   "language": "python",
   "name": "python3"
  },
  "language_info": {
   "codemirror_mode": {
    "name": "ipython",
    "version": 3
   },
   "file_extension": ".py",
   "mimetype": "text/x-python",
   "name": "python",
   "nbconvert_exporter": "python",
   "pygments_lexer": "ipython3",
   "version": "3.12.2"
  }
 },
 "nbformat": 4,
 "nbformat_minor": 5
}
