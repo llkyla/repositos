{
 "cells": [
  {
   "cell_type": "code",
   "execution_count": 7,
   "id": "da8631ce-c6ea-4237-86c6-502cdde70f9f",
   "metadata": {},
   "outputs": [],
   "source": [
    "import numpy as np\n",
    "import pandas as pd"
   ]
  },
  {
   "cell_type": "code",
   "execution_count": 9,
   "id": "7ef01ef1-d266-4bba-9669-c16f5e583547",
   "metadata": {},
   "outputs": [
    {
     "name": "stdout",
     "output_type": "stream",
     "text": [
      "Matrix A:\n",
      "[[ 1.          0.          0.30901699 -0.3454915  -0.80901699 -0.21352549\n",
      "  -0.80901699  0.21352549  0.30901699  0.3454915 ]\n",
      " [ 0.          0.36327126  0.95105652  0.11225699  0.58778525 -0.29389263\n",
      "  -0.58778525 -0.29389263 -0.95105652  0.11225699]]\n",
      "\n",
      "Vector c:\n",
      "[ 0.          0.         -1.92705098  1.03647451  0.19098301  2.02254249\n",
      "  3.42705098  1.5954915   3.30901699  0.3454915 ]\n",
      "\n",
      "Sequence of β:\n",
      "(1, 2)\n",
      "(3, 4)\n",
      "(5, 6)\n",
      "(7, 8)\n",
      "(9, 10)\n",
      "(1, 10)\n"
     ]
    }
   ],
   "source": [
    "import numpy as np\n",
    "\n",
    "# Parameters\n",
    "k = 5  # You can set k >= 5\n",
    "theta = 2 * np.pi / k\n",
    "gamma = 0.5 * np.tan(theta / 2)\n",
    "\n",
    "# Rotation matrix R\n",
    "R = np.array([[np.cos(theta), -np.sin(theta)], \n",
    "              [np.sin(theta), np.cos(theta)]])\n",
    "\n",
    "# Initial matrices A1 and A2\n",
    "A1 = np.array([1, 0])\n",
    "A2 = np.array([0, gamma])\n",
    "\n",
    "# Initialize matrices\n",
    "n = 2 * k\n",
    "A = np.zeros((2, n))\n",
    "c = np.zeros(n)\n",
    "\n",
    "# Assign values to A\n",
    "A[:, 0] = A1\n",
    "A[:, 1] = A2\n",
    "\n",
    "# Fill A using rotations\n",
    "for j in range(3, n+1):\n",
    "    if j % 2 == 1:  # odd j\n",
    "        A[:, j-1] = np.linalg.matrix_power(R, (j-1)//2).dot(A1)\n",
    "    else:  # even j\n",
    "        A[:, j-1] = np.linalg.matrix_power(R, (j-2)//2).dot(A2)\n",
    "\n",
    "# Calculate c_j\n",
    "for j in range(n):\n",
    "    a1j = A[0, j]\n",
    "    a2j = A[1, j]\n",
    "    c[j] = 1 - a1j - (a2j / gamma)\n",
    "\n",
    "# Print A and c matrices\n",
    "print(\"Matrix A:\")\n",
    "print(A)\n",
    "print(\"\\nVector c:\")\n",
    "print(c)\n",
    "\n",
    "# Objective coefficients c_j and the cycle of bases β\n",
    "beta_sequence = []\n",
    "for i in range(1, k + 1):\n",
    "    beta_sequence.append((2 * i - 1, 2 * i))\n",
    "beta_sequence.append((1, 2 * k))\n",
    "\n",
    "print(\"\\nSequence of β:\")\n",
    "for b in beta_sequence:\n",
    "    print(b)"
   ]
  },
  {
   "cell_type": "code",
   "execution_count": null,
   "id": "0f5a059f-3315-4431-af0f-9b540705094e",
   "metadata": {},
   "outputs": [],
   "source": []
  }
 ],
 "metadata": {
  "kernelspec": {
   "display_name": "Python 3 (ipykernel)",
   "language": "python",
   "name": "python3"
  },
  "language_info": {
   "codemirror_mode": {
    "name": "ipython",
    "version": 3
   },
   "file_extension": ".py",
   "mimetype": "text/x-python",
   "name": "python",
   "nbconvert_exporter": "python",
   "pygments_lexer": "ipython3",
   "version": "3.12.2"
  }
 },
 "nbformat": 4,
 "nbformat_minor": 5
}
